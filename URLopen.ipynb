{
 "cells": [
  {
   "cell_type": "code",
   "execution_count": null,
   "metadata": {
    "collapsed": false
   },
   "outputs": [],
   "source": []
  },
  {
   "cell_type": "code",
   "execution_count": 33,
   "metadata": {
    "collapsed": false
   },
   "outputs": [
    {
     "name": "stdout",
     "output_type": "stream",
     "text": [
      "b'Example txt2html Document :c,h3\\n\\nThis document illustrates simple examples of all the formatting and\\nmark-up that the \"txt2html\"_README.html tool recognizes.  This\\nexample.html file was created from the text file example.txt by\\ntyping:\\n\\ntxt2html example.txt > example.html\\n\\n:line\\n\\n[Mark-up Syntax:]\\n\\nThis is an example of [bold text].  This is an example of {italicized\\ntext}.  This text is [{both bold and italicized}].\\n\\nThis is a \"link\"_#lists to another location in this document.\\n\\nThis is a \"link\"_README.html to another document, the README.html in\\nthis same directory.\\n\\nThis is a \"link\"_alias1 to another location in the README.html document.\\n\\nThis is a \"link\"_alias2 to the Google WWW site.\\n\\nIf you look in example.txt you will see that the first 2 links were\\ncreated in-line, while the last 2 used an alias to a definition\\nelsewhere in the example.txt file.\\n\\n:link(alias1,README.html#markup)\\n:link(alias2,http://www.google.com)\\n\\n:line\\n\\n[Paragraph Styles:]\\n\\nThis is a default paragraph with no formatting styles appended.\\n\\nThis paragraph has a :p command appended.  It should look the same as\\nthe default. :p\\n\\nThis paragraph has a :b command appended.  It should have no following\\nnewline. :b\\n\\nThis paragraph has a :c command appended.  It should be centered. :c\\n\\nThis paragraph has a :h3 command appended. :h3\\n\\nThis paragraph has a :c,h3 command appended.  It will also be centered :c,h3\\n\\nThis paragraph has a :pre appended.\\nIt will appear with a different font and\\n  with spacing exactly as in the example.txt file. :pre\\n\\n:line\\n\\n[Lists:] :link(lists)\\n\\nThis is a bulleted list, created with a single :ul appended to the\\nlast line of the list:\\n\\nitem 1\\nitem 2\\nitem 3 :ul\\n\\nThis is a numbered list; an :ol command is appended:\\n\\nitem 1\\nitem 2\\nitem 3 :ol\\n\\nAnd this is a definition list, using a :dl command:\\n\\nitem 1\\n  This is a description of the first item.\\nitem 2\\nThe text file doesn\\'t need any \\\\\\nindentation so long as each of the 6 entries in the list is a \\\\\\nsingle line in the example.txt file; the list format creates the \\\\\\nindentation.  This entry in the example.txt file illustrates the \\\\\\nuse of the \"\\\\\" character at the end of lines, to create one long line.\\nitem 3\\n  This is a description of the third. :dl\\n\\nAn item in a list can have multiple lines and paragraphs if the\\nformatting commands are applied to each line of the list:\\n\\nitem 1 :ulb,l\\nitem 2 :l\\nThis is a 2nd paragraph associated with item 2. :p\\nThis is a 3rd paragraph. It can be as long as needed to describe the item.  It\\nwill keep going until a :p formatting command is placed\\nat the end of a line. :p\\nitem 3 :l,ule\\n\\n:line\\n\\n[Commands applied to each line in the paragraph:]\\n\\nThis entire paragraph is centered\\nline by line\\nby appending :all(c) to the\\nlast line. :all(c)\\n\\nThis entire paragraph consists of short lines\\nthat are left-justified.\\nThis is done by appending :all(b) to the\\nlast line. :all(b)\\n\\nThis is a simple bulleted list with no indentation, by appending\\n:all(l) to the last line.\\n\\nitem 1\\nitem 2\\nitem 3 :all(l)\\n\\n:line\\n\\n[Special commands:]\\n\\nThis leading and trailing horizontal breaks for this section were\\ncreated using the :line command.\\n\\nThe :c,image(file) command inserts this image of an equation.  The \"c\"\\ncauses it to be centered.\\n\\n:c,image(equation.gif)\\n\\nThe :image(file,link) command inserts it again, and allows you to click\\non it to go to the Google WWW site.\\n\\n:image(equation.gif,http://www.google.com)\\n\\nThe :link(name) and :link(alias,value) commands were illustrated earlier\\nin this document.\\n\\n:line\\n\\n[Table command:]\\n\\nThis is a simple default table created by appending :tb to the last\\nline.\\n\\nProcs, 1, 2, 4\\nCPU, 10.0, 5.1, 2.8 :tb\\n\\nThe next table used :tb(b=5,s=;,a=r) to create a larger border, use a\\ndifferent delimiter character in the example.txt file, and align to\\nthe right of the browser window.\\n\\nProcs; 1; 2; 4\\nCPU; 10.0; 5.1; 2.8 :tb(b=5,s=;,a=r)\\n\\nThe next table with :tb(w=100%,ea=c) has a width percentage that fills\\n100% of the screen and the text in each entry aligned to the center.\\n\\nProcs, 1, 2, 4\\nCPU, 10.0, 5.1, 2.8 :tb(w=100%,ea=c)\\n\\nThe next table with :tb(cw1=5x0%,w=20,ca1=r) has the width of column 1\\n= 50%, the rest of the columns of width 20 pixels, and the data in\\ncolumn 1 aligned to the right.\\n\\nProcs, 1, 2, 4\\nCPU, 10.0, 5.1, 2.8 :tb(cw1=5x0%,w=20,ca1=r)\\n\\nThe next table with :tb(c=3,cva1=t,eva=bo,cw2=60) has three columns.\\nColumn one is vertically aligned to the top, there is a break row\\nspecified by just commas, the data is vertically aligned to the\\nbottom, and the width of column 2 is 60 pixels.\\n\\nSection One,\\nLine One \\nLine Two \\nLine Three,\\nColumn three,\\n, , ,\\n[Section Two (bold)], Line One Line Two Line Three, Co\\nlumn 3   \\n:tb(c=3,cva1=t,eva=bo,cw2=60)\\n\\nThe next table with :tb(c=3,cva1=t,b=0,w=60%,cw3=80%,s=***) has three\\ncolumns (only two that have information - see heading two).  Column\\none is vertically aligned to the top, there is no border, the width of\\ncolumn 3 is 80% of the table, the width of the table is 60% of the\\nscreen, and the separator is not a comma (it is ***).\\n\\n[Heading One]*** ***\\nA couple of sentences that wrap.  For example, a definition, \\nan explanation, a point about this particular page, and so \\nforth.  The lines wrap, no matter where you insert newlines, if \\nyou specify a specific number of columns.  Don\\'t forget to include \\nspaces, or your words will also wrap together.*** \\n*** *** ***\\n[Heading Two]*** ***\\nThere is a bit of a break between the last paragraph and heading two\\nbecause we inserted a row of blank space.  There is a separator column\\nbetween the heading and the paragraphs because we included an extra\\nseparator there (compare with distance between columns in table\\nabove).  To make the distance larger, put &lt;br&gt; in the extra\\ncell.  It need not be included in every row, just one.\\n:tb(c=3,cva1=t,b=0,w=60%,cw3=80%,s=***)\\n\\nThe next table with :tb(c=3,b=0,w=60%,cw2=5%,s=***) has columns equals\\nthree, there is no border, the width of the entire table covers 60% of\\nthe screen, column two has a width of 5% of the table, and the\\nseparator is, again, ***.\\n\\n[Heading One]*** *** [Heading Two]***\\nThis table is similar to the last one. A couple of sentences that\\nwrap.  For example, a definition, an explaination, a point about this\\nparticular page, and so forth.  The lines wrap, no matter where you\\ninsert newlines, if you specify a specific number of columns.  Don\\'t\\nforget to include spaces, or your words will also wrap together.***\\n*** This table has no extra row like the one above, but it does have\\nthe extra column to separate the data columns.  This column is 5% of\\nthe total width, so it is big enough to make a clear break between the\\ncolumns, but not overwhelming. More text to wrap.  More text to wrap.\\nMore text to wrap.  More text to wrap.  More text to wrap. More text\\nto wrap.\\n:tb(c=3,b=0,w=60%,cw2=5%,s=***)\\n\\n\\n\\n\\n\\n\\n\\n\\n'\n"
     ]
    }
   ],
   "source": [
    "from urllib.request import urlopen\n",
    "textfile = urlopen(\"http://www.sandia.gov/~sjplimp/docs/txt2html/example.txt\").read(200000)\n",
    "print(textfile)\n"
   ]
  },
  {
   "cell_type": "code",
   "execution_count": null,
   "metadata": {
    "collapsed": true
   },
   "outputs": [],
   "source": []
  }
 ],
 "metadata": {
  "kernelspec": {
   "display_name": "Python 3",
   "language": "python",
   "name": "python3"
  },
  "language_info": {
   "codemirror_mode": {
    "name": "ipython",
    "version": 3
   },
   "file_extension": ".py",
   "mimetype": "text/x-python",
   "name": "python",
   "nbconvert_exporter": "python",
   "pygments_lexer": "ipython3",
   "version": "3.4.0"
  }
 },
 "nbformat": 4,
 "nbformat_minor": 0
}
